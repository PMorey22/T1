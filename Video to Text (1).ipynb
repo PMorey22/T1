{
 "cells": [
  {
   "cell_type": "markdown",
   "metadata": {},
   "source": [
    "## 0. Install and Import Dependencies"
   ]
  },
  {
   "cell_type": "code",
   "execution_count": 25,
   "metadata": {},
   "outputs": [
    {
     "name": "stdout",
     "output_type": "stream",
     "text": [
      "Requirement already satisfied: ibm_watson in d:\\pfiles\\anaconda3\\lib\\site-packages (9.0.0)\n",
      "Requirement already satisfied: requests<3.0,>=2.0 in c:\\users\\purva\\appdata\\roaming\\python\\python312\\site-packages (from ibm_watson) (2.32.3)\n",
      "Requirement already satisfied: python_dateutil>=2.5.3 in c:\\users\\purva\\appdata\\roaming\\python\\python312\\site-packages (from ibm_watson) (2.9.0.post0)\n",
      "Requirement already satisfied: websocket-client>=1.1.0 in d:\\pfiles\\anaconda3\\lib\\site-packages (from ibm_watson) (1.8.0)\n",
      "Requirement already satisfied: ibm_cloud_sdk_core==3.*,>=3.3.6 in d:\\pfiles\\anaconda3\\lib\\site-packages (from ibm_watson) (3.22.0)\n",
      "Requirement already satisfied: urllib3<3.0.0,>=2.1.0 in c:\\users\\purva\\appdata\\roaming\\python\\python312\\site-packages (from ibm_cloud_sdk_core==3.*,>=3.3.6->ibm_watson) (2.3.0)\n",
      "Requirement already satisfied: PyJWT<3.0.0,>=2.8.0 in d:\\pfiles\\anaconda3\\lib\\site-packages (from ibm_cloud_sdk_core==3.*,>=3.3.6->ibm_watson) (2.8.0)\n",
      "Requirement already satisfied: six>=1.5 in c:\\users\\purva\\appdata\\roaming\\python\\python312\\site-packages (from python_dateutil>=2.5.3->ibm_watson) (1.17.0)\n",
      "Requirement already satisfied: charset-normalizer<4,>=2 in c:\\users\\purva\\appdata\\roaming\\python\\python312\\site-packages (from requests<3.0,>=2.0->ibm_watson) (3.4.1)\n",
      "Requirement already satisfied: idna<4,>=2.5 in c:\\users\\purva\\appdata\\roaming\\python\\python312\\site-packages (from requests<3.0,>=2.0->ibm_watson) (3.10)\n",
      "Requirement already satisfied: certifi>=2017.4.17 in c:\\users\\purva\\appdata\\roaming\\python\\python312\\site-packages (from requests<3.0,>=2.0->ibm_watson) (2024.12.14)\n"
     ]
    },
    {
     "name": "stderr",
     "output_type": "stream",
     "text": [
      "'brew' is not recognized as an internal or external command,\n",
      "operable program or batch file.\n"
     ]
    },
    {
     "name": "stdout",
     "output_type": "stream",
     "text": [
      "Name: ffmpeg\n",
      "Version: 1.4\n",
      "Summary: ffmpeg python package url [https://github.com/jiashaokun/ffmpeg]\n",
      "Home-page: https://github.com/jiashaokun/ffmpeg\n",
      "Author: SkeyJIA\n",
      "Author-email: 363604236@qq.com\n",
      "License: MIT Licence\n",
      "Location: D:\\Pfiles\\anaconda3\\Lib\\site-packages\n",
      "Requires: \n",
      "Required-by: \n"
     ]
    }
   ],
   "source": [
    "!pip install ibm_watson\n",
    "!brew install ffmpeg\n",
    "!pip show ffmpeg"
   ]
  },
  {
   "cell_type": "code",
   "execution_count": 26,
   "metadata": {},
   "outputs": [],
   "source": [
    "import subprocess\n",
    "from ibm_watson import SpeechToTextV1\n",
    "from ibm_watson.websocket import RecognizeCallback, AudioSource\n",
    "from ibm_cloud_sdk_core.authenticators import IAMAuthenticator"
   ]
  },
  {
   "cell_type": "markdown",
   "metadata": {},
   "source": [
    "## 1. Extract Audio"
   ]
  },
  {
   "cell_type": "code",
   "execution_count": 27,
   "metadata": {},
   "outputs": [
    {
     "name": "stdout",
     "output_type": "stream",
     "text": [
      "Requirement already satisfied: moviepy in c:\\users\\purva\\appdata\\roaming\\python\\python312\\site-packages (2.1.1)\n",
      "Requirement already satisfied: decorator<6.0,>=4.0.2 in c:\\users\\purva\\appdata\\roaming\\python\\python312\\site-packages (from moviepy) (5.1.1)\n",
      "Requirement already satisfied: imageio<3.0,>=2.5 in c:\\users\\purva\\appdata\\roaming\\python\\python312\\site-packages (from moviepy) (2.36.1)\n",
      "Requirement already satisfied: imageio_ffmpeg>=0.2.0 in c:\\users\\purva\\appdata\\roaming\\python\\python312\\site-packages (from moviepy) (0.5.1)\n",
      "Requirement already satisfied: numpy>=1.25.0 in c:\\users\\purva\\appdata\\roaming\\python\\python312\\site-packages (from moviepy) (2.0.2)\n",
      "Requirement already satisfied: proglog<=1.0.0 in c:\\users\\purva\\appdata\\roaming\\python\\python312\\site-packages (from moviepy) (0.1.10)\n",
      "Requirement already satisfied: python-dotenv>=0.10 in c:\\users\\purva\\appdata\\roaming\\python\\python312\\site-packages (from moviepy) (1.0.1)\n",
      "Requirement already satisfied: pillow<11.0,>=9.2.0 in c:\\users\\purva\\appdata\\roaming\\python\\python312\\site-packages (from moviepy) (10.4.0)\n",
      "Requirement already satisfied: setuptools in c:\\users\\purva\\appdata\\roaming\\python\\python312\\site-packages (from imageio_ffmpeg>=0.2.0->moviepy) (75.6.0)\n",
      "Requirement already satisfied: tqdm in c:\\users\\purva\\appdata\\roaming\\python\\python312\\site-packages (from proglog<=1.0.0->moviepy) (4.67.1)\n",
      "Requirement already satisfied: colorama in c:\\users\\purva\\appdata\\roaming\\python\\python312\\site-packages (from tqdm->proglog<=1.0.0->moviepy) (0.4.6)\n",
      "Name: moviepy\n",
      "Version: 2.1.1\n",
      "Summary: Video editing with Python\n",
      "Home-page: \n",
      "Author: Zulko 2024\n",
      "Author-email: \n",
      "License: MIT License\n",
      "Location: C:\\Users\\purva\\AppData\\Roaming\\Python\\Python312\\site-packages\n",
      "Requires: decorator, imageio, imageio_ffmpeg, numpy, pillow, proglog, python-dotenv\n",
      "Required-by: \n"
     ]
    }
   ],
   "source": [
    "!pip install moviepy\n",
    "!pip show moviepy\n"
   ]
  },
  {
   "cell_type": "code",
   "execution_count": 28,
   "metadata": {},
   "outputs": [
    {
     "name": "stdout",
     "output_type": "stream",
     "text": [
      "D:\\Pfiles\\anaconda3\\python.exe\n"
     ]
    }
   ],
   "source": [
    "import sys\n",
    "print(sys.executable)\n"
   ]
  },
  {
   "cell_type": "code",
   "execution_count": 29,
   "metadata": {},
   "outputs": [
    {
     "name": "stdout",
     "output_type": "stream",
     "text": [
      "MoviePy - Writing audio in C:/Users/purva/Desktop/New/t1/VideoToText/audio.wav\n"
     ]
    },
    {
     "name": "stderr",
     "output_type": "stream",
     "text": [
      "                                                                                                                                    "
     ]
    },
    {
     "name": "stdout",
     "output_type": "stream",
     "text": [
      "MoviePy - Done.\n",
      "Audio successfully extracted to C:/Users/purva/Desktop/New/t1/VideoToText/audio.wav\n"
     ]
    },
    {
     "name": "stderr",
     "output_type": "stream",
     "text": [
      "\r"
     ]
    }
   ],
   "source": [
    "from moviepy.video.io.VideoFileClip import VideoFileClip\n",
    "\n",
    "\n",
    "# Define paths for the input video and output audio\n",
    "video_file_path = \"C:/Users/purva/Desktop/New/t1/VideoToText/aiml3.webm\"  # Replace with your video file path\n",
    "audio_file_path = \"C:/Users/purva/Desktop/New/t1/VideoToText/audio.wav\"  # Replace with your desired output audio file path\n",
    "\n",
    "# Load the video file\n",
    "video = VideoFileClip(video_file_path)\n",
    "\n",
    "# Extract and write the audio\n",
    "video.audio.write_audiofile(audio_file_path)\n",
    "\n",
    "print(f\"Audio successfully extracted to {audio_file_path}\")\n"
   ]
  },
  {
   "cell_type": "code",
   "execution_count": 30,
   "metadata": {},
   "outputs": [
    {
     "name": "stdout",
     "output_type": "stream",
     "text": [
      "Requirement already satisfied: SpeechRecognition in d:\\pfiles\\anaconda3\\lib\\site-packages (3.13.0)\n",
      "Requirement already satisfied: pyaudio in d:\\pfiles\\anaconda3\\lib\\site-packages (0.2.14)\n",
      "Requirement already satisfied: typing-extensions in c:\\users\\purva\\appdata\\roaming\\python\\python312\\site-packages (from SpeechRecognition) (4.12.2)\n",
      "Requirement already satisfied: pydub in d:\\pfiles\\anaconda3\\lib\\site-packages (0.25.1)\n",
      "Requirement already satisfied: noisereduce in c:\\users\\purva\\appdata\\roaming\\python\\python312\\site-packages (3.0.3)\n",
      "Requirement already satisfied: scipy in c:\\users\\purva\\appdata\\roaming\\python\\python312\\site-packages (from noisereduce) (1.14.1)\n",
      "Requirement already satisfied: matplotlib in c:\\users\\purva\\appdata\\roaming\\python\\python312\\site-packages (from noisereduce) (3.10.0)\n",
      "Requirement already satisfied: numpy in c:\\users\\purva\\appdata\\roaming\\python\\python312\\site-packages (from noisereduce) (2.0.2)\n",
      "Requirement already satisfied: tqdm in c:\\users\\purva\\appdata\\roaming\\python\\python312\\site-packages (from noisereduce) (4.67.1)\n",
      "Requirement already satisfied: joblib in c:\\users\\purva\\appdata\\roaming\\python\\python312\\site-packages (from noisereduce) (1.4.2)\n",
      "Requirement already satisfied: contourpy>=1.0.1 in c:\\users\\purva\\appdata\\roaming\\python\\python312\\site-packages (from matplotlib->noisereduce) (1.3.1)\n",
      "Requirement already satisfied: cycler>=0.10 in c:\\users\\purva\\appdata\\roaming\\python\\python312\\site-packages (from matplotlib->noisereduce) (0.12.1)\n",
      "Requirement already satisfied: fonttools>=4.22.0 in c:\\users\\purva\\appdata\\roaming\\python\\python312\\site-packages (from matplotlib->noisereduce) (4.55.3)\n",
      "Requirement already satisfied: kiwisolver>=1.3.1 in c:\\users\\purva\\appdata\\roaming\\python\\python312\\site-packages (from matplotlib->noisereduce) (1.4.8)\n",
      "Requirement already satisfied: packaging>=20.0 in c:\\users\\purva\\appdata\\roaming\\python\\python312\\site-packages (from matplotlib->noisereduce) (24.2)\n",
      "Requirement already satisfied: pillow>=8 in c:\\users\\purva\\appdata\\roaming\\python\\python312\\site-packages (from matplotlib->noisereduce) (10.4.0)\n",
      "Requirement already satisfied: pyparsing>=2.3.1 in c:\\users\\purva\\appdata\\roaming\\python\\python312\\site-packages (from matplotlib->noisereduce) (3.2.0)\n",
      "Requirement already satisfied: python-dateutil>=2.7 in c:\\users\\purva\\appdata\\roaming\\python\\python312\\site-packages (from matplotlib->noisereduce) (2.9.0.post0)\n",
      "Requirement already satisfied: colorama in c:\\users\\purva\\appdata\\roaming\\python\\python312\\site-packages (from tqdm->noisereduce) (0.4.6)\n",
      "Requirement already satisfied: six>=1.5 in c:\\users\\purva\\appdata\\roaming\\python\\python312\\site-packages (from python-dateutil>=2.7->matplotlib->noisereduce) (1.17.0)\n"
     ]
    }
   ],
   "source": [
    "!pip install SpeechRecognition pyaudio\n",
    "!pip install pydub\n",
    "!pip install noisereduce"
   ]
  },
  {
   "cell_type": "code",
   "execution_count": 31,
   "metadata": {},
   "outputs": [],
   "source": [
    "import os\n",
    "from pydub import AudioSegment\n",
    "from pydub.effects import normalize\n",
    "from pydub.silence import detect_nonsilent\n",
    "import speech_recognition as sr"
   ]
  },
  {
   "cell_type": "code",
   "execution_count": 32,
   "metadata": {},
   "outputs": [
    {
     "name": "stdout",
     "output_type": "stream",
     "text": [
      "Requirement already satisfied: pydub in d:\\pfiles\\anaconda3\\lib\\site-packages (0.25.1)\n",
      "Requirement already satisfied: openai-whisper in c:\\users\\purva\\appdata\\roaming\\python\\python312\\site-packages (20240930)\n",
      "Requirement already satisfied: ffmpeg in d:\\pfiles\\anaconda3\\lib\\site-packages (1.4)\n",
      "Requirement already satisfied: numba in c:\\users\\purva\\appdata\\roaming\\python\\python312\\site-packages (from openai-whisper) (0.60.0)\n",
      "Requirement already satisfied: numpy in c:\\users\\purva\\appdata\\roaming\\python\\python312\\site-packages (from openai-whisper) (2.0.2)\n",
      "Requirement already satisfied: torch in c:\\users\\purva\\appdata\\roaming\\python\\python312\\site-packages (from openai-whisper) (2.5.1)\n",
      "Requirement already satisfied: tqdm in c:\\users\\purva\\appdata\\roaming\\python\\python312\\site-packages (from openai-whisper) (4.67.1)\n",
      "Requirement already satisfied: more-itertools in c:\\users\\purva\\appdata\\roaming\\python\\python312\\site-packages (from openai-whisper) (10.5.0)\n",
      "Requirement already satisfied: tiktoken in c:\\users\\purva\\appdata\\roaming\\python\\python312\\site-packages (from openai-whisper) (0.8.0)\n",
      "Requirement already satisfied: llvmlite<0.44,>=0.43.0dev0 in c:\\users\\purva\\appdata\\roaming\\python\\python312\\site-packages (from numba->openai-whisper) (0.43.0)\n",
      "Requirement already satisfied: regex>=2022.1.18 in c:\\users\\purva\\appdata\\roaming\\python\\python312\\site-packages (from tiktoken->openai-whisper) (2024.11.6)\n",
      "Requirement already satisfied: requests>=2.26.0 in c:\\users\\purva\\appdata\\roaming\\python\\python312\\site-packages (from tiktoken->openai-whisper) (2.32.3)\n",
      "Requirement already satisfied: filelock in c:\\users\\purva\\appdata\\roaming\\python\\python312\\site-packages (from torch->openai-whisper) (3.16.1)\n",
      "Requirement already satisfied: typing-extensions>=4.8.0 in c:\\users\\purva\\appdata\\roaming\\python\\python312\\site-packages (from torch->openai-whisper) (4.12.2)\n",
      "Requirement already satisfied: networkx in c:\\users\\purva\\appdata\\roaming\\python\\python312\\site-packages (from torch->openai-whisper) (3.4.2)\n",
      "Requirement already satisfied: jinja2 in c:\\users\\purva\\appdata\\roaming\\python\\python312\\site-packages (from torch->openai-whisper) (3.1.5)\n",
      "Requirement already satisfied: fsspec in c:\\users\\purva\\appdata\\roaming\\python\\python312\\site-packages (from torch->openai-whisper) (2024.12.0)\n",
      "Requirement already satisfied: setuptools in c:\\users\\purva\\appdata\\roaming\\python\\python312\\site-packages (from torch->openai-whisper) (75.6.0)\n",
      "Requirement already satisfied: sympy==1.13.1 in c:\\users\\purva\\appdata\\roaming\\python\\python312\\site-packages (from torch->openai-whisper) (1.13.1)\n",
      "Requirement already satisfied: mpmath<1.4,>=1.1.0 in c:\\users\\purva\\appdata\\roaming\\python\\python312\\site-packages (from sympy==1.13.1->torch->openai-whisper) (1.3.0)\n",
      "Requirement already satisfied: colorama in c:\\users\\purva\\appdata\\roaming\\python\\python312\\site-packages (from tqdm->openai-whisper) (0.4.6)\n",
      "Requirement already satisfied: charset-normalizer<4,>=2 in c:\\users\\purva\\appdata\\roaming\\python\\python312\\site-packages (from requests>=2.26.0->tiktoken->openai-whisper) (3.4.1)\n",
      "Requirement already satisfied: idna<4,>=2.5 in c:\\users\\purva\\appdata\\roaming\\python\\python312\\site-packages (from requests>=2.26.0->tiktoken->openai-whisper) (3.10)\n",
      "Requirement already satisfied: urllib3<3,>=1.21.1 in c:\\users\\purva\\appdata\\roaming\\python\\python312\\site-packages (from requests>=2.26.0->tiktoken->openai-whisper) (2.3.0)\n",
      "Requirement already satisfied: certifi>=2017.4.17 in c:\\users\\purva\\appdata\\roaming\\python\\python312\\site-packages (from requests>=2.26.0->tiktoken->openai-whisper) (2024.12.14)\n",
      "Requirement already satisfied: MarkupSafe>=2.0 in c:\\users\\purva\\appdata\\roaming\\python\\python312\\site-packages (from jinja2->torch->openai-whisper) (3.0.2)\n",
      "installed\n"
     ]
    }
   ],
   "source": [
    "!pip install pydub openai-whisper ffmpeg\n",
    "print(\"installed\")"
   ]
  },
  {
   "cell_type": "code",
   "execution_count": 36,
   "metadata": {},
   "outputs": [
    {
     "name": "stdout",
     "output_type": "stream",
     "text": [
      "2.2.1\n",
      "Collecting numpy==2.0.0\n",
      "  Downloading numpy-2.0.0-cp312-cp312-win_amd64.whl.metadata (60 kB)\n",
      "Downloading numpy-2.0.0-cp312-cp312-win_amd64.whl (16.2 MB)\n",
      "   ---------------------------------------- 0.0/16.2 MB ? eta -:--:--\n",
      "   - -------------------------------------- 0.8/16.2 MB 5.6 MB/s eta 0:00:03\n",
      "   ---- ----------------------------------- 1.8/16.2 MB 4.4 MB/s eta 0:00:04\n",
      "   ------ --------------------------------- 2.6/16.2 MB 3.9 MB/s eta 0:00:04\n",
      "   -------- ------------------------------- 3.4/16.2 MB 4.1 MB/s eta 0:00:04\n",
      "   ---------- ----------------------------- 4.2/16.2 MB 4.1 MB/s eta 0:00:03\n",
      "   ------------ --------------------------- 5.2/16.2 MB 4.0 MB/s eta 0:00:03\n",
      "   -------------- ------------------------- 6.0/16.2 MB 4.0 MB/s eta 0:00:03\n",
      "   ---------------- ----------------------- 6.6/16.2 MB 4.0 MB/s eta 0:00:03\n",
      "   ------------------ --------------------- 7.6/16.2 MB 4.0 MB/s eta 0:00:03\n",
      "   -------------------- ------------------- 8.1/16.2 MB 3.9 MB/s eta 0:00:03\n",
      "   --------------------- ------------------ 8.9/16.2 MB 3.8 MB/s eta 0:00:02\n",
      "   ----------------------- ---------------- 9.4/16.2 MB 3.8 MB/s eta 0:00:02\n",
      "   ------------------------ --------------- 10.0/16.2 MB 3.7 MB/s eta 0:00:02\n",
      "   -------------------------- ------------- 10.7/16.2 MB 3.6 MB/s eta 0:00:02\n",
      "   --------------------------- ------------ 11.3/16.2 MB 3.6 MB/s eta 0:00:02\n",
      "   ----------------------------- ---------- 12.1/16.2 MB 3.5 MB/s eta 0:00:02\n",
      "   ------------------------------- -------- 12.6/16.2 MB 3.5 MB/s eta 0:00:02\n",
      "   -------------------------------- ------- 13.1/16.2 MB 3.4 MB/s eta 0:00:01\n",
      "   ---------------------------------- ----- 13.9/16.2 MB 3.4 MB/s eta 0:00:01\n",
      "   ----------------------------------- ---- 14.4/16.2 MB 3.4 MB/s eta 0:00:01\n",
      "   ------------------------------------- -- 15.2/16.2 MB 3.4 MB/s eta 0:00:01\n",
      "   -------------------------------------- - 15.7/16.2 MB 3.4 MB/s eta 0:00:01\n",
      "   ---------------------------------------- 16.2/16.2 MB 3.3 MB/s eta 0:00:00\n",
      "Installing collected packages: numpy\n",
      "  Attempting uninstall: numpy\n",
      "    Found existing installation: numpy 2.0.2\n",
      "    Uninstalling numpy-2.0.2:\n",
      "      Successfully uninstalled numpy-2.0.2\n",
      "  Rolling back uninstall of numpy\n",
      "  Moving to c:\\users\\purva\\appdata\\roaming\\python\\python312\\scripts\\f2py.exe\n",
      "   from C:\\Users\\purva\\AppData\\Local\\Temp\\pip-uninstall-c0yazn5v\\f2py.exe\n",
      "  Moving to c:\\users\\purva\\appdata\\roaming\\python\\python312\\scripts\\numpy-config.exe\n",
      "   from C:\\Users\\purva\\AppData\\Local\\Temp\\pip-uninstall-c0yazn5v\\numpy-config.exe\n",
      "  Moving to c:\\users\\purva\\appdata\\roaming\\python\\python312\\site-packages\\numpy-2.0.2-cp312-cp312-win_amd64.whl\n",
      "   from C:\\Users\\purva\\AppData\\Local\\Temp\\pip-uninstall-c0il0viw\\numpy-2.0.2-cp312-cp312-win_amd64.whl\n",
      "  Moving to c:\\users\\purva\\appdata\\roaming\\python\\python312\\site-packages\\numpy-2.0.2.dist-info\\\n",
      "   from C:\\Users\\purva\\AppData\\Roaming\\Python\\Python312\\site-packages\\~umpy-2.0.2.dist-info\n",
      "  Moving to c:\\users\\purva\\appdata\\roaming\\python\\python312\\site-packages\\numpy.libs\\\n",
      "   from C:\\Users\\purva\\AppData\\Roaming\\Python\\Python312\\site-packages\\~~mpy.libs\n",
      "  Moving to c:\\users\\purva\\appdata\\roaming\\python\\python312\\site-packages\\numpy\\\n",
      "   from C:\\Users\\purva\\AppData\\Roaming\\Python\\Python312\\site-packages\\~~mpy\n"
     ]
    },
    {
     "name": "stderr",
     "output_type": "stream",
     "text": [
      "ERROR: Could not install packages due to an OSError: [WinError 5] Access is denied: 'D:\\\\Pfiles\\\\anaconda3\\\\Lib\\\\site-packages\\\\numpy\\\\linalg\\\\_umath_linalg.cp312-win_amd64.pyd'\n",
      "Consider using the `--user` option or check the permissions.\n",
      "\n"
     ]
    }
   ],
   "source": [
    "!pip install numpy==2.0.0\n",
    "\n",
    "\n",
    "import numpy as np\n",
    "print(np.__version__)\n",
    "\n",
    "\n"
   ]
  },
  {
   "cell_type": "code",
   "execution_count": 37,
   "metadata": {},
   "outputs": [
    {
     "name": "stdout",
     "output_type": "stream",
     "text": [
      "Running Whisper transcription...\n",
      "Transcript saved to transcript_with_timestamps_whisper.txt\n"
     ]
    }
   ],
   "source": [
    "import subprocess\n",
    "\n",
    "# Path to your audio file\n",
    "audio_file_path = \"C:/Users/purva/Desktop/New/t1/VideoToText/audio.wav\"\n",
    "\n",
    "# Output file path\n",
    "output_file_path = \"transcript_with_timestamps_whisper.txt\"\n",
    "\n",
    "# Command to run Whisper and redirect output to a file\n",
    "try:\n",
    "    with open(output_file_path, \"w\") as output_file:\n",
    "        print(\"Running Whisper transcription...\")\n",
    "        subprocess.run(\n",
    "            [\"whisper\", audio_file_path, \"--model\", \"base\", \"--output_format\", \"txt\"],\n",
    "            stdout=output_file,\n",
    "            stderr=subprocess.STDOUT,\n",
    "            check=True\n",
    "        )\n",
    "    print(f\"Transcript saved to {output_file_path}\")\n",
    "except subprocess.CalledProcessError as e:\n",
    "    print(f\"Error during transcription: {e}\")\n"
   ]
  },
  {
   "cell_type": "code",
   "execution_count": null,
   "metadata": {},
   "outputs": [],
   "source": []
  }
 ],
 "metadata": {
  "kernelspec": {
   "display_name": "Python 3 (ipykernel)",
   "language": "python",
   "name": "python3"
  },
  "language_info": {
   "codemirror_mode": {
    "name": "ipython",
    "version": 3
   },
   "file_extension": ".py",
   "mimetype": "text/x-python",
   "name": "python",
   "nbconvert_exporter": "python",
   "pygments_lexer": "ipython3",
   "version": "3.12.7"
  }
 },
 "nbformat": 4,
 "nbformat_minor": 4
}
